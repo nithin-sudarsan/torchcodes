{
  "nbformat": 4,
  "nbformat_minor": 0,
  "metadata": {
    "colab": {
      "provenance": [],
      "toc_visible": true,
      "authorship_tag": "ABX9TyM9sRTYJztGgkV2WPRzphus",
      "include_colab_link": true
    },
    "kernelspec": {
      "name": "python3",
      "display_name": "Python 3"
    },
    "language_info": {
      "name": "python"
    }
  },
  "cells": [
    {
      "cell_type": "markdown",
      "metadata": {
        "id": "view-in-github",
        "colab_type": "text"
      },
      "source": [
        "<a href=\"https://colab.research.google.com/github/nithin-sudarsan/torchcodes/blob/chapter-1-pytorch-workflow/PyTorch_workflow_fundamentals.ipynb\" target=\"_parent\"><img src=\"https://colab.research.google.com/assets/colab-badge.svg\" alt=\"Open In Colab\"/></a>"
      ]
    },
    {
      "cell_type": "markdown",
      "source": [
        "## Prescribed steps\n",
        "1. Find and prepare data\n",
        "2. build a model (or use an already built model)\n",
        "3. train the model with data\n",
        "4. test the model (make predictions and evaluate model)\n",
        "5. saving and loading the model for further use"
      ],
      "metadata": {
        "id": "WEwy7rFPFKmk"
      }
    },
    {
      "cell_type": "markdown",
      "source": [
        "## Import PyTorch and required packages"
      ],
      "metadata": {
        "id": "3lPIoXpVFP8D"
      }
    },
    {
      "cell_type": "code",
      "execution_count": 1,
      "metadata": {
        "colab": {
          "base_uri": "https://localhost:8080/",
          "height": 35
        },
        "id": "qlVdegJykP7k",
        "outputId": "8cd746f1-2da8-4c00-a75f-275d56cfa488"
      },
      "outputs": [
        {
          "output_type": "execute_result",
          "data": {
            "text/plain": [
              "'2.6.0+cu124'"
            ],
            "application/vnd.google.colaboratory.intrinsic+json": {
              "type": "string"
            }
          },
          "metadata": {},
          "execution_count": 1
        }
      ],
      "source": [
        "import torch\n",
        "from torch import nn\n",
        "import matplotlib.pyplot as plt\n",
        "torch.__version__"
      ]
    },
    {
      "cell_type": "markdown",
      "source": [
        "## Find and prepare data\n",
        "ML mainly has two parts to it\n",
        "1. Find and prepare the data, by turning raw data into numbers\n",
        "2. train a model to understand patterns in data or use an already existing model that might be able to best understand the pattern"
      ],
      "metadata": {
        "id": "yUJPM3k1pYaD"
      }
    },
    {
      "cell_type": "markdown",
      "source": [
        "### Create dummy data"
      ],
      "metadata": {
        "id": "4RpoyubJq_EM"
      }
    },
    {
      "cell_type": "code",
      "source": [
        "weight = 0.7\n",
        "bias = 0.3\n",
        "\n",
        "x = torch.arange(0,1,0.02).unsqueeze(dim=1)\n",
        "y = x * weight + bias # similar to striaght line equation y = m * x + c\n",
        "x[:10], y[:10]"
      ],
      "metadata": {
        "colab": {
          "base_uri": "https://localhost:8080/"
        },
        "id": "rvcw1sxupz_F",
        "outputId": "1fa002b2-975f-4c15-fe6b-6a66bbcec37b"
      },
      "execution_count": 2,
      "outputs": [
        {
          "output_type": "execute_result",
          "data": {
            "text/plain": [
              "(tensor([[0.0000],\n",
              "         [0.0200],\n",
              "         [0.0400],\n",
              "         [0.0600],\n",
              "         [0.0800],\n",
              "         [0.1000],\n",
              "         [0.1200],\n",
              "         [0.1400],\n",
              "         [0.1600],\n",
              "         [0.1800]]),\n",
              " tensor([[0.3000],\n",
              "         [0.3140],\n",
              "         [0.3280],\n",
              "         [0.3420],\n",
              "         [0.3560],\n",
              "         [0.3700],\n",
              "         [0.3840],\n",
              "         [0.3980],\n",
              "         [0.4120],\n",
              "         [0.4260]]))"
            ]
          },
          "metadata": {},
          "execution_count": 2
        }
      ]
    },
    {
      "cell_type": "markdown",
      "source": [
        "### Train test split\n",
        "80:20 train test split"
      ],
      "metadata": {
        "id": "jZPNFAfCrZBp"
      }
    },
    {
      "cell_type": "code",
      "source": [
        "train_split = int(0.8 * len(x))\n",
        "x_train, y_train = x[:train_split], y[:train_split] # from starting up to train_split\n",
        "x_test, y_test = x[train_split:], y[train_split:] # from train_split index up to end\n",
        "\n",
        "len(x_train), len(y_train), len(x_test), len(y_test)"
      ],
      "metadata": {
        "colab": {
          "base_uri": "https://localhost:8080/"
        },
        "id": "exGoSV24sF8G",
        "outputId": "507270e4-bb51-4d34-ba4b-61dee411c5c2"
      },
      "execution_count": 3,
      "outputs": [
        {
          "output_type": "execute_result",
          "data": {
            "text/plain": [
              "(40, 40, 10, 10)"
            ]
          },
          "metadata": {},
          "execution_count": 3
        }
      ]
    },
    {
      "cell_type": "markdown",
      "source": [
        "### Visualising the data"
      ],
      "metadata": {
        "id": "O9F0ZQl4sjph"
      }
    },
    {
      "cell_type": "code",
      "source": [
        "def plot_predictions(train_data = x_train,\n",
        "                     train_labels = y_train,\n",
        "                     test_data = x_test,\n",
        "                     test_labels = y_test,\n",
        "                     predictions = None):\n",
        "  plt.figure(figsize=(10, 7))\n",
        "  plt.scatter(train_data, train_labels, c='b', s=4, label = \"Training Data\")\n",
        "  plt.scatter(test_data, test_labels, c='g', s=4, label = \"Testing Data\")\n",
        "\n",
        "  if predictions is not None:\n",
        "    plt.scatter(test_data, predictions, c='r', s=4, label= \"Predictions\")\n",
        "\n",
        "  plt.legend(prop={\"size\": 14})"
      ],
      "metadata": {
        "id": "Dh1scm13uMn7"
      },
      "execution_count": 4,
      "outputs": []
    },
    {
      "cell_type": "code",
      "source": [
        "plot_predictions()"
      ],
      "metadata": {
        "colab": {
          "base_uri": "https://localhost:8080/",
          "height": 599
        },
        "id": "m3zIFAUaw0rQ",
        "outputId": "5ddc8499-9c0a-4c9a-f6c8-5af6bf0551aa"
      },
      "execution_count": 5,
      "outputs": [
        {
          "output_type": "display_data",
          "data": {
            "text/plain": [
              "<Figure size 1000x700 with 1 Axes>"
            ],
            "image/png": "[encoded data removed]"
          },
          "metadata": {}
        }
      ]
    },
    {
      "cell_type": "markdown",
      "source": [
        "## Build the model\n",
        "A model is built, trained on the blue dots from above to predict the green dots.\n",
        "\n",
        "> I need to brush up my knowledge on OOPs in Python ( [Refer Link](https://realpython.com/python3-object-oriented-programming/)])\n"
      ],
      "metadata": {
        "id": "mPBzFof6w5I-"
      }
    },
    {
      "cell_type": "code",
      "source": [
        "class LinearRegressionModel(nn.Module):\n",
        "  def __init__(self):\n",
        "    super().__init__()\n",
        "    self.weights = nn.Parameter(torch.rand(1,\n",
        "                                           dtype = torch.float32,\n",
        "                                           requires_grad=True)) # allowed to update using gradient descent\n",
        "    self.bias = nn.Parameter(torch.rand(1,\n",
        "                                        dtype=torch.float32,\n",
        "                                        requires_grad = True))\n",
        "  def forward(self, x : torch.Tensor) -> torch.Tensor:\n",
        "    return self.weights * x + self.bias"
      ],
      "metadata": {
        "id": "-zrHTgFAR4KO"
      },
      "execution_count": 6,
      "outputs": []
    },
    {
      "cell_type": "markdown",
      "source": [
        "Important modules\n",
        "1. torch.nn\n",
        "2. torch.nn.Parameter\n",
        "3. torch.nn.Module\n",
        "4. torch.optim\n",
        "5. def forward\n"
      ],
      "metadata": {
        "id": "HJWk5RzCTC_-"
      }
    },
    {
      "cell_type": "markdown",
      "source": [
        "We can check the parameters used in a model and their properties using `model.parameters()` method."
      ],
      "metadata": {
        "id": "0U-VyOzXViwL"
      }
    },
    {
      "cell_type": "code",
      "source": [
        "torch.manual_seed(42)\n",
        "\n",
        "model0 = LinearRegressionModel()\n",
        "list(model0.parameters())"
      ],
      "metadata": {
        "colab": {
          "base_uri": "https://localhost:8080/"
        },
        "id": "Lb4RbWOeUj_J",
        "outputId": "7a9098cd-facd-4059-8b55-86b726b5541e"
      },
      "execution_count": 7,
      "outputs": [
        {
          "output_type": "execute_result",
          "data": {
            "text/plain": [
              "[Parameter containing:\n",
              " tensor([0.8823], requires_grad=True),\n",
              " Parameter containing:\n",
              " tensor([0.9150], requires_grad=True)]"
            ]
          },
          "metadata": {},
          "execution_count": 7
        }
      ]
    },
    {
      "cell_type": "markdown",
      "source": [
        "We can also do this using `model.state_dict()`"
      ],
      "metadata": {
        "id": "VLbk6X2RVWGl"
      }
    },
    {
      "cell_type": "code",
      "source": [
        "model0.state_dict()"
      ],
      "metadata": {
        "colab": {
          "base_uri": "https://localhost:8080/"
        },
        "id": "Gg2yBt_5V2Ha",
        "outputId": "4c60e98c-1dc9-4290-dffb-9f73bc3955a7"
      },
      "execution_count": 8,
      "outputs": [
        {
          "output_type": "execute_result",
          "data": {
            "text/plain": [
              "OrderedDict([('weights', tensor([0.8823])), ('bias', tensor([0.9150]))])"
            ]
          },
          "metadata": {},
          "execution_count": 8
        }
      ]
    },
    {
      "cell_type": "markdown",
      "source": [
        "### Making predictions"
      ],
      "metadata": {
        "id": "loU0DGDmV4zW"
      }
    },
    {
      "cell_type": "code",
      "source": [
        "with torch.inference_mode():\n",
        "  y_pred = model0(x_test)"
      ],
      "metadata": {
        "id": "cvlyjsr4XQfb"
      },
      "execution_count": 9,
      "outputs": []
    },
    {
      "cell_type": "markdown",
      "source": [
        "`torch.inference_mode()` is used when using the models to make predictions. This mode turns off unwanted compute energy including the needed to track the gradient and this in turn helps running the forward pass faster."
      ],
      "metadata": {
        "id": "gVmGFD0Ma2TJ"
      }
    },
    {
      "cell_type": "code",
      "source": [
        "y_pred"
      ],
      "metadata": {
        "colab": {
          "base_uri": "https://localhost:8080/"
        },
        "id": "F5y0GUA6XxdQ",
        "outputId": "f8d42425-be62-4ce7-8139-628832fffa22"
      },
      "execution_count": 10,
      "outputs": [
        {
          "output_type": "execute_result",
          "data": {
            "text/plain": [
              "tensor([[1.6208],\n",
              "        [1.6385],\n",
              "        [1.6561],\n",
              "        [1.6738],\n",
              "        [1.6914],\n",
              "        [1.7090],\n",
              "        [1.7267],\n",
              "        [1.7443],\n",
              "        [1.7620],\n",
              "        [1.7796]])"
            ]
          },
          "metadata": {},
          "execution_count": 10
        }
      ]
    },
    {
      "cell_type": "code",
      "source": [
        "plot_predictions(predictions=y_pred)"
      ],
      "metadata": {
        "colab": {
          "base_uri": "https://localhost:8080/",
          "height": 599
        },
        "id": "SrzgAtv-YKQI",
        "outputId": "068c37cb-34a2-4216-acc8-6455e6174498"
      },
      "execution_count": 11,
      "outputs": [
        {
          "output_type": "display_data",
          "data": {
            "text/plain": [
              "<Figure size 1000x700 with 1 Axes>"
            ],
            "image/png": "[encoded data removed]"
          },
          "metadata": {}
        }
      ]
    },
    {
      "cell_type": "code",
      "source": [
        "y_test - y_pred"
      ],
      "metadata": {
        "colab": {
          "base_uri": "https://localhost:8080/"
        },
        "id": "IoYSjPAAbwnx",
        "outputId": "07fe3fdb-63ff-47f4-a7fd-5d283207266c"
      },
      "execution_count": 12,
      "outputs": [
        {
          "output_type": "execute_result",
          "data": {
            "text/plain": [
              "tensor([[-0.7608],\n",
              "        [-0.7645],\n",
              "        [-0.7681],\n",
              "        [-0.7718],\n",
              "        [-0.7754],\n",
              "        [-0.7790],\n",
              "        [-0.7827],\n",
              "        [-0.7863],\n",
              "        [-0.7900],\n",
              "        [-0.7936]])"
            ]
          },
          "metadata": {},
          "execution_count": 12
        }
      ]
    },
    {
      "cell_type": "markdown",
      "source": [
        "we can see from the above graph and the error valyes that a model with the initialisde random values for weights and biases, without being trained is not performing well. I'm gonna train it on `x_train` and test once again."
      ],
      "metadata": {
        "id": "Usb6d4lrYRV1"
      }
    },
    {
      "cell_type": "markdown",
      "source": [
        "## Training the model\n",
        "In this example since we already know that the weights is 0.7 and the bias is 0.3, if we hardcode these values it should predict with absolutely no errors. This can be done as follows"
      ],
      "metadata": {
        "id": "3BpkmPXLazTH"
      }
    },
    {
      "cell_type": "code",
      "source": [
        "with torch.no_grad():\n",
        "  model0.weights.copy_(torch.tensor([0.7], dtype=torch.float32))\n",
        "  model0.bias.copy_(torch.tensor([0.3], dtype = torch.float32))"
      ],
      "metadata": {
        "id": "_s0Vmq5Qb41l"
      },
      "execution_count": 13,
      "outputs": []
    },
    {
      "cell_type": "code",
      "source": [
        "model0.weights, model0.bias"
      ],
      "metadata": {
        "colab": {
          "base_uri": "https://localhost:8080/"
        },
        "id": "ySvcNofTcGzm",
        "outputId": "d8af1f9a-a7c7-4f77-8aac-54efb882313c"
      },
      "execution_count": 14,
      "outputs": [
        {
          "output_type": "execute_result",
          "data": {
            "text/plain": [
              "(Parameter containing:\n",
              " tensor([0.7000], requires_grad=True),\n",
              " Parameter containing:\n",
              " tensor([0.3000], requires_grad=True))"
            ]
          },
          "metadata": {},
          "execution_count": 14
        }
      ]
    },
    {
      "cell_type": "code",
      "source": [
        "with torch.inference_mode():\n",
        "  y_pred = model0(x_test)"
      ],
      "metadata": {
        "id": "hlihYSXJeGuC"
      },
      "execution_count": 15,
      "outputs": []
    },
    {
      "cell_type": "code",
      "source": [
        "plot_predictions(predictions=y_pred)"
      ],
      "metadata": {
        "colab": {
          "base_uri": "https://localhost:8080/",
          "height": 599
        },
        "id": "NCS9sUe4eelW",
        "outputId": "c716a19c-1a1c-4220-ba56-42dfccd15f0b"
      },
      "execution_count": 16,
      "outputs": [
        {
          "output_type": "display_data",
          "data": {
            "text/plain": [
              "<Figure size 1000x700 with 1 Axes>"
            ],
            "image/png": "[encoded data removed]"
          },
          "metadata": {}
        }
      ]
    },
    {
      "cell_type": "markdown",
      "source": [
        "But out main intension is to train the machine learning model to learn from the training data and see what values / patterns of weights and biases it learns from the traning data."
      ],
      "metadata": {
        "id": "d6z9q0BJeh0S"
      }
    },
    {
      "cell_type": "markdown",
      "source": [
        "In order to train the model we need loss functions and optimizers.\n",
        "- **Loss function** says how much different our predictions are off from the actual values<br>\n",
        "  Some examples are\n",
        "  - **Mean Absolute Error (MAE)**: for regression problems [`torch.nn.L1Loss()`]\n",
        "  - **Binary Cross Entropy** for classification problems [`torch.nn.BCELoss()`]\n",
        "- **Optimizer** tells the model what is the best way to update the parameters in order to lower the loss.<br>\n",
        "  Some examples are\n",
        "  - **Adam Optimizer** [`torch.optim.Adam()`]\n",
        "  - **Stochastic Gradient Descent** [`torch.optim.SGD()`]\n",
        "\n",
        "\n",
        "  In this example I'm going with MAE (`torch.nn.L1Loss`) and SGD(`torch.optim.SGD(params, lr)`)\n",
        "\n",
        "  In `torch.optim.SGD(params, lr)`\n",
        "  - `params` is the parameters in the model that has to be optimized\n",
        "  - `lr` is the learning rate.<br>\n",
        "    learning rate is often called `hyperparameter` because only machine learning enginners should modify this value. If the value is too large the model will fail to learn and if the value is too small, It will take much longer for the model to learn.<br>\n",
        "    Typically, starting values for learning rates are `0.1`, `0.01` or `0.001`, however they can be changed later.\n"
      ],
      "metadata": {
        "id": "2gSCa8Y7fGMW"
      }
    },
    {
      "cell_type": "code",
      "source": [
        "model1 = LinearRegressionModel() # overwriting the existing model because weights and bias were tweaked\n",
        "\n",
        "loss_fn = torch.nn.L1Loss()\n",
        "optimizer = torch.optim.SGD(params = model1.parameters(), lr = 0.01)\n",
        "model1.state_dict()"
      ],
      "metadata": {
        "colab": {
          "base_uri": "https://localhost:8080/"
        },
        "id": "eTncynLDfQGW",
        "outputId": "11bdf84b-039d-40a0-a3ad-6e843896d77c"
      },
      "execution_count": 22,
      "outputs": [
        {
          "output_type": "execute_result",
          "data": {
            "text/plain": [
              "OrderedDict([('weights', tensor([0.8823])), ('bias', tensor([0.9150]))])"
            ]
          },
          "metadata": {},
          "execution_count": 22
        }
      ]
    },
    {
      "cell_type": "markdown",
      "source": [
        "### Traning Loop\n",
        "PyTorch traning loop has the following steps:\n",
        "1. forward pass\n",
        "2. calculate loss\n",
        "3. set the optimizer gradients to zero so that they can be calculated for that particular step / loop\n",
        "4. back propagation\n",
        "5. update the optimizer\n"
      ],
      "metadata": {
        "id": "OsJ5RkdamIqt"
      }
    },
    {
      "cell_type": "markdown",
      "source": [
        "The general rule of thumb for steps inside for loop is\n",
        "1. calculate loss before performing back propagation\n",
        "2. zero the gradients before calculating the gradients of the loss\n",
        "3. update the optimizer after performing back propagation on loss"
      ],
      "metadata": {
        "id": "A_jfeGf5sddh"
      }
    },
    {
      "cell_type": "markdown",
      "source": [
        "### Testing loop\n",
        "1. forward pass\n",
        "2. make predicitons\n",
        "3. calculate other metrics (accuracy, precision, etc) if necessary"
      ],
      "metadata": {
        "id": "6kvhk1pGtGgb"
      }
    },
    {
      "cell_type": "code",
      "source": [
        "torch.manual_seed(42)\n",
        "# empty lists in order to keep a record of the models performance\n",
        "epoch_counts = []\n",
        "training_loss_values = []\n",
        "testing_loss_values = []\n",
        "\n",
        "epochs = 500\n",
        "\n",
        "for epoch in range(epochs):\n",
        "  model1.train() # puts the model in traning mode\n",
        "  y_pred = model1(x_train)\n",
        "  loss = loss_fn(y_pred, y_train)\n",
        "  optimizer.zero_grad()\n",
        "  loss.backward()\n",
        "  optimizer.step()\n",
        "\n",
        "  model1.eval() # puts the model in evaluation mode\n",
        "\n",
        "  with torch.inference_mode():\n",
        "    test_pred = model1(x_test)\n",
        "    testing_loss = loss_fn(test_pred, y_test.type(torch.float))\n",
        "    if epoch % 10 == 0:\n",
        "      epoch_counts.append(epoch)\n",
        "      training_loss_values.append(loss.detach().numpy())\n",
        "      testing_loss_values.append(testing_loss.detach().numpy())\n",
        "      print(f\"epoch : {epoch} | training loss : {loss} | testing loss : {testing_loss}\")"
      ],
      "metadata": {
        "colab": {
          "base_uri": "https://localhost:8080/"
        },
        "id": "6bzSC0Vzq3kf",
        "outputId": "2fa11867-5dc9-4c81-a460-22b4bbe06325"
      },
      "execution_count": 23,
      "outputs": [
        {
          "output_type": "stream",
          "name": "stdout",
          "text": [
            "epoch : 0 | training loss : 0.6860889196395874 | testing loss : 0.7637526988983154\n",
            "epoch : 10 | training loss : 0.5708791017532349 | testing loss : 0.6290428042411804\n",
            "epoch : 20 | training loss : 0.45566922426223755 | testing loss : 0.4943329691886902\n",
            "epoch : 30 | training loss : 0.34045934677124023 | testing loss : 0.35962313413619995\n",
            "epoch : 40 | training loss : 0.2252494841814041 | testing loss : 0.2249133139848709\n",
            "epoch : 50 | training loss : 0.1100396141409874 | testing loss : 0.09020347893238068\n",
            "epoch : 60 | training loss : 0.009724985808134079 | testing loss : 0.020998019725084305\n",
            "epoch : 70 | training loss : 0.006216754671186209 | testing loss : 0.014099234715104103\n",
            "epoch : 80 | training loss : 0.002788322512060404 | testing loss : 0.005826681852340698\n",
            "epoch : 90 | training loss : 0.007095950655639172 | testing loss : 0.00754010071977973\n",
            "epoch : 100 | training loss : 0.007095950655639172 | testing loss : 0.00754010071977973\n",
            "epoch : 110 | training loss : 0.007095950655639172 | testing loss : 0.00754010071977973\n",
            "epoch : 120 | training loss : 0.007095950655639172 | testing loss : 0.00754010071977973\n",
            "epoch : 130 | training loss : 0.007095950655639172 | testing loss : 0.00754010071977973\n",
            "epoch : 140 | training loss : 0.007095950655639172 | testing loss : 0.00754010071977973\n",
            "epoch : 150 | training loss : 0.007095950655639172 | testing loss : 0.00754010071977973\n",
            "epoch : 160 | training loss : 0.007095950655639172 | testing loss : 0.00754010071977973\n",
            "epoch : 170 | training loss : 0.007095950655639172 | testing loss : 0.00754010071977973\n",
            "epoch : 180 | training loss : 0.007095950655639172 | testing loss : 0.00754010071977973\n",
            "epoch : 190 | training loss : 0.007095950655639172 | testing loss : 0.00754010071977973\n",
            "epoch : 200 | training loss : 0.007095950655639172 | testing loss : 0.00754010071977973\n",
            "epoch : 210 | training loss : 0.007095950655639172 | testing loss : 0.00754010071977973\n",
            "epoch : 220 | training loss : 0.007095950655639172 | testing loss : 0.00754010071977973\n",
            "epoch : 230 | training loss : 0.007095950655639172 | testing loss : 0.00754010071977973\n",
            "epoch : 240 | training loss : 0.007095950655639172 | testing loss : 0.00754010071977973\n",
            "epoch : 250 | training loss : 0.007095950655639172 | testing loss : 0.00754010071977973\n",
            "epoch : 260 | training loss : 0.007095950655639172 | testing loss : 0.00754010071977973\n",
            "epoch : 270 | training loss : 0.007095950655639172 | testing loss : 0.00754010071977973\n",
            "epoch : 280 | training loss : 0.007095950655639172 | testing loss : 0.00754010071977973\n",
            "epoch : 290 | training loss : 0.007095950655639172 | testing loss : 0.00754010071977973\n",
            "epoch : 300 | training loss : 0.007095950655639172 | testing loss : 0.00754010071977973\n",
            "epoch : 310 | training loss : 0.007095950655639172 | testing loss : 0.00754010071977973\n",
            "epoch : 320 | training loss : 0.007095950655639172 | testing loss : 0.00754010071977973\n",
            "epoch : 330 | training loss : 0.007095950655639172 | testing loss : 0.00754010071977973\n",
            "epoch : 340 | training loss : 0.007095950655639172 | testing loss : 0.00754010071977973\n",
            "epoch : 350 | training loss : 0.007095950655639172 | testing loss : 0.00754010071977973\n",
            "epoch : 360 | training loss : 0.007095950655639172 | testing loss : 0.00754010071977973\n",
            "epoch : 370 | training loss : 0.007095950655639172 | testing loss : 0.00754010071977973\n",
            "epoch : 380 | training loss : 0.007095950655639172 | testing loss : 0.00754010071977973\n",
            "epoch : 390 | training loss : 0.007095950655639172 | testing loss : 0.00754010071977973\n",
            "epoch : 400 | training loss : 0.007095950655639172 | testing loss : 0.00754010071977973\n",
            "epoch : 410 | training loss : 0.007095950655639172 | testing loss : 0.00754010071977973\n",
            "epoch : 420 | training loss : 0.007095950655639172 | testing loss : 0.00754010071977973\n",
            "epoch : 430 | training loss : 0.007095950655639172 | testing loss : 0.00754010071977973\n",
            "epoch : 440 | training loss : 0.007095950655639172 | testing loss : 0.00754010071977973\n",
            "epoch : 450 | training loss : 0.007095950655639172 | testing loss : 0.00754010071977973\n",
            "epoch : 460 | training loss : 0.007095950655639172 | testing loss : 0.00754010071977973\n",
            "epoch : 470 | training loss : 0.007095950655639172 | testing loss : 0.00754010071977973\n",
            "epoch : 480 | training loss : 0.007095950655639172 | testing loss : 0.00754010071977973\n",
            "epoch : 490 | training loss : 0.007095950655639172 | testing loss : 0.00754010071977973\n"
          ]
        }
      ]
    },
    {
      "cell_type": "code",
      "source": [
        "model1.state_dict()"
      ],
      "metadata": {
        "colab": {
          "base_uri": "https://localhost:8080/"
        },
        "id": "kWNPcjIDrySR",
        "outputId": "83ea71bd-101c-403e-bd6d-9835e00d8811"
      },
      "execution_count": 24,
      "outputs": [
        {
          "output_type": "execute_result",
          "data": {
            "text/plain": [
              "OrderedDict([('weights', tensor([0.6977])), ('bias', tensor([0.3080]))])"
            ]
          },
          "metadata": {},
          "execution_count": 24
        }
      ]
    },
    {
      "cell_type": "markdown",
      "source": [
        "We can see that the weight and bias have come close to the original values , i.e. `0.7` for weights and `0.3` for bias."
      ],
      "metadata": {
        "id": "qMlkykb8zB5n"
      }
    },
    {
      "cell_type": "markdown",
      "source": [
        "While making predictions make sure\n",
        "1. set model to evaluation mode\n",
        "2. make predictions with inference mode on\n",
        "3. predictions should be made on the same device"
      ],
      "metadata": {
        "id": "5eepAXn2-9lQ"
      }
    },
    {
      "cell_type": "code",
      "source": [
        "model1.eval() # setting to evaluation mode\n",
        "with torch.inference_mode(): # always remember to make predictions with inference mode\n",
        "  y_pred = model1(x_test)\n",
        "plot_predictions(predictions=y_pred.detach()) # Detach y_pred before passing to plot_predictions"
      ],
      "metadata": {
        "colab": {
          "base_uri": "https://localhost:8080/",
          "height": 599
        },
        "id": "OKohwpbPr1sl",
        "outputId": "2e7eb97b-db79-4928-837f-8bd64555f5d1"
      },
      "execution_count": 25,
      "outputs": [
        {
          "output_type": "display_data",
          "data": {
            "text/plain": [
              "<Figure size 1000x700 with 1 Axes>"
            ],
            "image/png": "[encoded data removed]"
          },
          "metadata": {}
        }
      ]
    },
    {
      "cell_type": "code",
      "source": [
        "plt.plot(epoch_counts , training_loss_values, label = \"Training loss\")\n",
        "plt.plot(epoch_counts , testing_loss_values, label = \"Testing loss\")\n",
        "plt.title(\"Training and testing loss\")\n",
        "plt.xlabel(\"Epochs\")\n",
        "plt.ylabel(\"Loss\")\n",
        "plt.legend()"
      ],
      "metadata": {
        "colab": {
          "base_uri": "https://localhost:8080/",
          "height": 489
        },
        "id": "9YDUOeo9wQ2W",
        "outputId": "e5dd7b8a-16fb-4006-b155-b86ae5b7c0b3"
      },
      "execution_count": 26,
      "outputs": [
        {
          "output_type": "execute_result",
          "data": {
            "text/plain": [
              "<matplotlib.legend.Legend at 0x79e47b52c150>"
            ]
          },
          "metadata": {},
          "execution_count": 26
        },
        {
          "output_type": "display_data",
          "data": {
            "text/plain": [
              "<Figure size 640x480 with 1 Axes>"
            ],
            "image/png": "[encoded data removed]"
          },
          "metadata": {}
        }
      ]
    },
    {
      "cell_type": "markdown",
      "source": [
        "Not sure why is there a random bump in the testing loss. Maybe because of the radom weights and biases that were initialized because the second time model was initialized and trained, it was fixed."
      ],
      "metadata": {
        "id": "ZUa4RSOOxXxw"
      }
    },
    {
      "cell_type": "markdown",
      "source": [
        "## Saving and loading models\n",
        "The three main functions to know for saving and loading models are\n",
        "1. `torch.save` : Models, tensors and various other Python objects can be saved / exported using this method\n",
        "2. `torch.load` : Unpickle Python objects to deserialize them and load into the memory. We can also choose the device where the object is loaded\n",
        "3. `torch.nn.Module.load_state_dict` : loads the models parameters saved in `model.state_dict()` object"
      ],
      "metadata": {
        "id": "BpQmW1nbyfYN"
      }
    },
    {
      "cell_type": "markdown",
      "source": [
        "### Saving a model's `state_dict`\n",
        "Steps\n",
        "1. create a directory to save the model\n",
        "2. create file path\n",
        "3. call `torch.save(obj, f)`"
      ],
      "metadata": {
        "id": "APOiTvICGhVE"
      }
    },
    {
      "cell_type": "code",
      "source": [
        "from pathlib import Path"
      ],
      "metadata": {
        "id": "kT9AiFokIYCd"
      },
      "execution_count": 27,
      "outputs": []
    },
    {
      "cell_type": "code",
      "source": [
        "# creating directory\n",
        "MODEL_PATH = Path(\"models\")\n",
        "MODEL_PATH.mkdir(parents = True, exist_ok = True)"
      ],
      "metadata": {
        "id": "8A1AD3-OIucu"
      },
      "execution_count": 30,
      "outputs": []
    },
    {
      "cell_type": "code",
      "source": [
        "# create save path\n",
        "MODEL_NAME = \"01_pytorch_workflow_model1.pth\"\n",
        "MODEL_SAVE_PATH = MODEL_PATH / MODEL_NAME"
      ],
      "metadata": {
        "id": "aJVvjUklI_ls"
      },
      "execution_count": 31,
      "outputs": []
    },
    {
      "cell_type": "code",
      "source": [
        "# save the model\n",
        "print(f\"Saving model to : {MODEL_SAVE_PATH}\")\n",
        "torch.save(obj = model1.state_dict(), f = MODEL_SAVE_PATH)"
      ],
      "metadata": {
        "colab": {
          "base_uri": "https://localhost:8080/"
        },
        "id": "ObeUUXucJimV",
        "outputId": "5ebf3dd8-fbb9-4d45-d6b9-33a2a9ecb64e"
      },
      "execution_count": 32,
      "outputs": [
        {
          "output_type": "stream",
          "name": "stdout",
          "text": [
            "Saving model to : models/01_pytorch_workflow_model1.pth\n"
          ]
        }
      ]
    },
    {
      "cell_type": "markdown",
      "source": [
        "### Loading saved models\n",
        "It is recommended to save the `state_dict` rather than an entire model because a model can have various dependencies and might not work in all env as expected.\n",
        "\n",
        "This is why it is suggested to export the parameters and then load and use them instead. This is done as follows\n",
        "`torch.nn.Module.load_state_dict(torch.load(f))`"
      ],
      "metadata": {
        "id": "4VUIdwS9J5mN"
      }
    },
    {
      "cell_type": "code",
      "source": [
        "loaded_model1 = LinearRegressionModel() # This is of type torch.nn.Module\n",
        "loaded_model1.load_state_dict(torch.load(f=MODEL_SAVE_PATH))"
      ],
      "metadata": {
        "colab": {
          "base_uri": "https://localhost:8080/"
        },
        "id": "FHAXRPwRMqA0",
        "outputId": "6f5d91c7-17ef-4c63-dae8-a467244462e1"
      },
      "execution_count": 33,
      "outputs": [
        {
          "output_type": "execute_result",
          "data": {
            "text/plain": [
              "<All keys matched successfully>"
            ]
          },
          "metadata": {},
          "execution_count": 33
        }
      ]
    },
    {
      "cell_type": "markdown",
      "source": [
        "Now I'm testing the loaded model"
      ],
      "metadata": {
        "id": "oAsG5njWOOa0"
      }
    },
    {
      "cell_type": "code",
      "source": [
        "loaded_model1.eval()\n",
        "with torch.inference_mode():\n",
        "  y_pred = loaded_model1(x_test)\n",
        "\n",
        "plot_predictions(predictions=y_pred)"
      ],
      "metadata": {
        "colab": {
          "base_uri": "https://localhost:8080/",
          "height": 599
        },
        "id": "QiIRijlUOWFq",
        "outputId": "0e9d1ec7-ac25-4b90-d240-b0c1be82e61c"
      },
      "execution_count": 34,
      "outputs": [
        {
          "output_type": "display_data",
          "data": {
            "text/plain": [
              "<Figure size 1000x700 with 1 Axes>"
            ],
            "image/png": "[encoded data removed]"
          },
          "metadata": {}
        }
      ]
    },
    {
      "cell_type": "markdown",
      "source": [
        "We can see that it had predicted exactly the same way as it did earlier"
      ],
      "metadata": {
        "id": "Z2PDJRJGOhZb"
      }
    },
    {
      "cell_type": "code",
      "source": [
        "loaded_model1.state_dict()"
      ],
      "metadata": {
        "colab": {
          "base_uri": "https://localhost:8080/"
        },
        "id": "k9cBPEsgOnzh",
        "outputId": "99c85f2d-af0d-43b1-810c-2c96171ae098"
      },
      "execution_count": 35,
      "outputs": [
        {
          "output_type": "execute_result",
          "data": {
            "text/plain": [
              "OrderedDict([('weights', tensor([0.6977])), ('bias', tensor([0.3080]))])"
            ]
          },
          "metadata": {},
          "execution_count": 35
        }
      ]
    },
    {
      "cell_type": "markdown",
      "source": [
        "## Training and testing on GPU"
      ],
      "metadata": {
        "id": "TFpV2PRkOrCJ"
      }
    },
    {
      "cell_type": "code",
      "source": [],
      "metadata": {
        "id": "bmBOu0ZMPjNM"
      },
      "execution_count": null,
      "outputs": []
    }
  ]
}