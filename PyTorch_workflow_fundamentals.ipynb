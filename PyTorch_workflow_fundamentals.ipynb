{
  "nbformat": 4,
  "nbformat_minor": 0,
  "metadata": {
    "colab": {
      "provenance": [],
      "authorship_tag": "ABX9TyOb6G3B2bxRnjeX7nxJszyO",
      "include_colab_link": true
    },
    "kernelspec": {
      "name": "python3",
      "display_name": "Python 3"
    },
    "language_info": {
      "name": "python"
    }
  },
  "cells": [
    {
      "cell_type": "markdown",
      "metadata": {
        "id": "view-in-github",
        "colab_type": "text"
      },
      "source": [
        "<a href=\"https://colab.research.google.com/github/nithin-sudarsan/torchcodes/blob/chapter-1-pytorch-workflow/PyTorch_workflow_fundamentals.ipynb\" target=\"_parent\"><img src=\"https://colab.research.google.com/assets/colab-badge.svg\" alt=\"Open In Colab\"/></a>"
      ]
    },
    {
      "cell_type": "markdown",
      "source": [
        "## Prescribed steps\n",
        "1. Find and prepare data\n",
        "2. build a model (or use an already built model)\n",
        "3. train the model with data\n",
        "4. test the model (make predictions and evaluate model)\n",
        "5. saving and loading the model for further use"
      ],
      "metadata": {
        "id": "WEwy7rFPFKmk"
      }
    },
    {
      "cell_type": "markdown",
      "source": [
        "## Import PyTorch and required packages"
      ],
      "metadata": {
        "id": "3lPIoXpVFP8D"
      }
    },
    {
      "cell_type": "code",
      "execution_count": 2,
      "metadata": {
        "colab": {
          "base_uri": "https://localhost:8080/",
          "height": 35
        },
        "id": "qlVdegJykP7k",
        "outputId": "1c5d0351-3487-4a9e-bc3d-bc144e6c4d4a"
      },
      "outputs": [
        {
          "output_type": "execute_result",
          "data": {
            "text/plain": [
              "'2.6.0+cu124'"
            ],
            "application/vnd.google.colaboratory.intrinsic+json": {
              "type": "string"
            }
          },
          "metadata": {},
          "execution_count": 2
        }
      ],
      "source": [
        "import torch\n",
        "from torch import nn\n",
        "import matplotlib.pyplot as plt\n",
        "torch.__version__"
      ]
    },
    {
      "cell_type": "markdown",
      "source": [
        "## Find and prepare data\n",
        "ML mainly has two parts to it\n",
        "1. Find and prepare the data, by turning raw data into numbers\n",
        "2. train a model to understand patterns in data or use an already existing model that might be able to best understand the pattern"
      ],
      "metadata": {
        "id": "yUJPM3k1pYaD"
      }
    },
    {
      "cell_type": "markdown",
      "source": [
        "### Create dummy data"
      ],
      "metadata": {
        "id": "4RpoyubJq_EM"
      }
    },
    {
      "cell_type": "code",
      "source": [
        "weight = 0.7\n",
        "bias = 0.3\n",
        "\n",
        "x = torch.arange(0,1,0.02).unsqueeze(dim=1)\n",
        "y = x * weight + bias # similar to striaght line equation y = m * x + c\n",
        "x[:10], y[:10]"
      ],
      "metadata": {
        "colab": {
          "base_uri": "https://localhost:8080/"
        },
        "id": "rvcw1sxupz_F",
        "outputId": "c8ba968b-8b0c-48a5-c12a-01fd2b5ec11e"
      },
      "execution_count": 3,
      "outputs": [
        {
          "output_type": "execute_result",
          "data": {
            "text/plain": [
              "(tensor([], size=(0, 1)), tensor([], size=(0, 1)))"
            ]
          },
          "metadata": {},
          "execution_count": 3
        }
      ]
    },
    {
      "cell_type": "markdown",
      "source": [
        "### Train test split\n",
        "80:20 train test split"
      ],
      "metadata": {
        "id": "jZPNFAfCrZBp"
      }
    },
    {
      "cell_type": "code",
      "source": [
        "train_split = int(0.8 * len(x))\n",
        "x_train, y_train = x[:train_split], y[:train_split] # from starting up to train_split\n",
        "x_test, y_test = x[train_split:], y[train_split:] # from train_split index up to end\n",
        "\n",
        "len(x_train), len(y_train), len(x_test), len(y_test)"
      ],
      "metadata": {
        "colab": {
          "base_uri": "https://localhost:8080/"
        },
        "id": "exGoSV24sF8G",
        "outputId": "a6314beb-2f88-41e2-84ef-8d8646b8aac1"
      },
      "execution_count": 9,
      "outputs": [
        {
          "output_type": "execute_result",
          "data": {
            "text/plain": [
              "(360, 360, 90, 90)"
            ]
          },
          "metadata": {},
          "execution_count": 9
        }
      ]
    },
    {
      "cell_type": "markdown",
      "source": [
        "### Visualising the data"
      ],
      "metadata": {
        "id": "O9F0ZQl4sjph"
      }
    },
    {
      "cell_type": "code",
      "source": [
        "def plot_predictions(train_data = x_train,\n",
        "                     train_labels = y_train,\n",
        "                     test_data = x_test,\n",
        "                     test_labels = y_test,\n",
        "                     predictions = None):\n",
        "  plt.figure(figsize=(10, 7))\n",
        "  plt.scatter(train_data, train_labels, c='b', s=4, label = \"Training Data\")\n",
        "  plt.scatter(test_data, test_labels, c='g', s=4, label = \"Testing Data\")\n",
        "\n",
        "  if predictions is not None:\n",
        "    plt.scatter(test_data, predictions, c='r', s=4, label= \"Predictions\")\n",
        "\n",
        "  plt.legend(prop={\"size\": 14})"
      ],
      "metadata": {
        "id": "Dh1scm13uMn7"
      },
      "execution_count": 16,
      "outputs": []
    },
    {
      "cell_type": "code",
      "source": [
        "plot_predictions()"
      ],
      "metadata": {
        "colab": {
          "base_uri": "https://localhost:8080/",
          "height": 599
        },
        "id": "m3zIFAUaw0rQ",
        "outputId": "261110d5-3aef-4394-c027-db7c5ab6b299"
      },
      "execution_count": 17,
      "outputs": [
        {
          "output_type": "display_data",
          "data": {
            "text/plain": [
              "<Figure size 1000x700 with 1 Axes>"
            ],
            "image/png": "[encoded data removed]"
          },
          "metadata": {}
        }
      ]
    },
    {
      "cell_type": "markdown",
      "source": [],
      "metadata": {
        "id": "mPBzFof6w5I-"
      }
    }
  ]
}